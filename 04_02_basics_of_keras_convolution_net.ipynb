{
 "cells": [
  {
   "cell_type": "code",
   "execution_count": 1,
   "metadata": {},
   "outputs": [
    {
     "data": {
      "text/html": [
       "<link rel=\"stylesheet\" type=\"text/css\" href=\"//fonts.googleapis.com/css?family=Quicksand:300\" />\n",
       "<link rel=\"stylesheet\" type=\"text/css\" href=\"custom.css\">"
      ],
      "text/plain": [
       "<IPython.core.display.HTML object>"
      ]
     },
     "metadata": {},
     "output_type": "display_data"
    }
   ],
   "source": [
    "%%HTML\n",
    "<link rel=\"stylesheet\" type=\"text/css\" href=\"//fonts.googleapis.com/css?family=Quicksand:300\" />\n",
    "<link rel=\"stylesheet\" type=\"text/css\" href=\"custom.css\">"
   ]
  },
  {
   "cell_type": "markdown",
   "metadata": {},
   "source": [
    "### Building Convolution Neural Network\n",
    "\n",
    "**Goal**\n",
    "- Build convolutional neural network\n",
    "\n",
    "** Data ** \n",
    "\n",
    "[- Cats vs Dogs](https://www.kaggle.com/c/dogs-vs-cats/data)\n"
   ]
  },
  {
   "cell_type": "markdown",
   "metadata": {
    "colab": {
     "autoexec": {
      "startup": false,
      "wait_interval": 0
     }
    },
    "colab_type": "code",
    "id": "YWIgYUlQTKte"
   },
   "source": [
    "## Now sample problem with Convnet"
   ]
  },
  {
   "cell_type": "code",
   "execution_count": 2,
   "metadata": {},
   "outputs": [],
   "source": [
    "import os, shutil"
   ]
  },
  {
   "cell_type": "code",
   "execution_count": 8,
   "metadata": {},
   "outputs": [],
   "source": [
    "# The path to the directory where the original\n",
    "# dataset was uncompressed\n",
    "original_dataset_dir = './data/kaggle_original_data'\n",
    "\n",
    "# The directory where we will\n",
    "# store our smaller dataset\n",
    "base_dir = './data/cats_and_dogs'\n",
    "# os.mkdir(base_dir)\n",
    "\n",
    "# Directories for our training,\n",
    "# validation and test splits\n",
    "train_dir = os.path.join(base_dir, 'train')\n",
    "# os.mkdir(train_dir)\n",
    "validation_dir = os.path.join(base_dir, 'validation')\n",
    "# os.mkdir(validation_dir)\n",
    "test_dir = os.path.join(base_dir, 'test')\n",
    "# os.mkdir(test_dir)\n",
    "\n",
    "# Directory with our training cat pictures\n",
    "train_cats_dir = os.path.join(train_dir, 'cats')\n",
    "# os.mkdir(train_cats_dir)\n",
    "\n",
    "# Directory with our training dog pictures\n",
    "train_dogs_dir = os.path.join(train_dir, 'dogs')\n",
    "# os.mkdir(train_dogs_dir)\n",
    "\n",
    "# Directory with our validation cat pictures\n",
    "validation_cats_dir = os.path.join(validation_dir, 'cats')\n",
    "# os.mkdir(validation_cats_dir)\n",
    "\n",
    "# Directory with our validation dog pictures\n",
    "validation_dogs_dir = os.path.join(validation_dir, 'dogs')\n",
    "# os.mkdir(validation_dogs_dir)\n",
    "\n",
    "# Directory with our validation cat pictures\n",
    "test_cats_dir = os.path.join(test_dir, 'cats')\n",
    "# os.mkdir(test_cats_dir)\n",
    "\n",
    "# Directory with our validation dog pictures\n",
    "test_dogs_dir = os.path.join(test_dir, 'dogs')\n",
    "# os.mkdir(test_dogs_dir)\n",
    "\n",
    "# Copy first 1000 cat images to train_cats_dir\n",
    "# fnames = ['cat.{}.jpg'.format(i) for i in range(9000)]\n",
    "# for fname in fnames:\n",
    "#     src = os.path.join(original_dataset_dir, fname)\n",
    "#     dst = os.path.join(train_cats_dir, fname)\n",
    "#     shutil.copyfile(src, dst)\n",
    "\n",
    "# Copy next 500 cat images to validation_cats_dir\n",
    "# fnames = ['cat.{}.jpg'.format(i) for i in range(9000, 11000)]\n",
    "# for fname in fnames:\n",
    "#     src = os.path.join(original_dataset_dir, fname)\n",
    "#     dst = os.path.join(validation_cats_dir, fname)\n",
    "#     shutil.copyfile(src, dst)\n",
    "    \n",
    "# Copy next 500 cat images to test_cats_dir\n",
    "# fnames = ['cat.{}.jpg'.format(i) for i in range(11000, 12500)]\n",
    "# for fname in fnames:\n",
    "#     src = os.path.join(original_dataset_dir, fname)\n",
    "#     dst = os.path.join(test_cats_dir, fname)\n",
    "#     shutil.copyfile(src, dst)\n",
    "    \n",
    "# Copy first 1000 dog images to train_dogs_dir\n",
    "# fnames = ['dog.{}.jpg'.format(i) for i in range(10000)]\n",
    "# for fname in fnames:\n",
    "#     src = os.path.join(original_dataset_dir, fname)\n",
    "#     dst = os.path.join(train_dogs_dir, fname)\n",
    "#     shutil.copyfile(src, dst)\n",
    "    \n",
    "# Copy next 500 dog images to validation_dogs_dir\n",
    "# fnames = ['dog.{}.jpg'.format(i) for i in range(9000, 11000)]\n",
    "# for fname in fnames:\n",
    "#     src = os.path.join(original_dataset_dir, fname)\n",
    "#     dst = os.path.join(validation_dogs_dir, fname)\n",
    "#     shutil.copyfile(src, dst)\n",
    "    \n",
    "# Copy next 500 dog images to test_dogs_dir\n",
    "# fnames = ['dog.{}.jpg'.format(i) for i in range(11000, 12500)]\n",
    "# for fname in fnames:\n",
    "#     src = os.path.join(original_dataset_dir, fname)\n",
    "#     dst = os.path.join(test_dogs_dir, fname)\n",
    "#     shutil.copyfile(src, dst)"
   ]
  },
  {
   "cell_type": "code",
   "execution_count": 9,
   "metadata": {},
   "outputs": [],
   "source": [
    "from keras import layers\n",
    "from keras import models\n",
    "\n",
    "model = models.Sequential()\n",
    "model.add(layers.Conv2D(32, (3, 3), activation='relu',\n",
    "                        input_shape=(150, 150, 3)))\n",
    "model.add(layers.MaxPooling2D((2, 2)))\n",
    "model.add(layers.Conv2D(64, (3, 3), activation='relu'))\n",
    "model.add(layers.MaxPooling2D((2, 2)))\n",
    "model.add(layers.Conv2D(128, (3, 3), activation='relu'))\n",
    "model.add(layers.MaxPooling2D((2, 2)))\n",
    "model.add(layers.Conv2D(128, (3, 3), activation='relu'))\n",
    "model.add(layers.MaxPooling2D((2, 2)))\n",
    "model.add(layers.Flatten())\n",
    "model.add(layers.Dense(512, activation='relu'))\n",
    "model.add(layers.Dense(1, activation='sigmoid'))"
   ]
  },
  {
   "cell_type": "code",
   "execution_count": 10,
   "metadata": {},
   "outputs": [
    {
     "name": "stdout",
     "output_type": "stream",
     "text": [
      "_________________________________________________________________\n",
      "Layer (type)                 Output Shape              Param #   \n",
      "=================================================================\n",
      "conv2d_5 (Conv2D)            (None, 148, 148, 32)      896       \n",
      "_________________________________________________________________\n",
      "max_pooling2d_5 (MaxPooling2 (None, 74, 74, 32)        0         \n",
      "_________________________________________________________________\n",
      "conv2d_6 (Conv2D)            (None, 72, 72, 64)        18496     \n",
      "_________________________________________________________________\n",
      "max_pooling2d_6 (MaxPooling2 (None, 36, 36, 64)        0         \n",
      "_________________________________________________________________\n",
      "conv2d_7 (Conv2D)            (None, 34, 34, 128)       73856     \n",
      "_________________________________________________________________\n",
      "max_pooling2d_7 (MaxPooling2 (None, 17, 17, 128)       0         \n",
      "_________________________________________________________________\n",
      "conv2d_8 (Conv2D)            (None, 15, 15, 128)       147584    \n",
      "_________________________________________________________________\n",
      "max_pooling2d_8 (MaxPooling2 (None, 7, 7, 128)         0         \n",
      "_________________________________________________________________\n",
      "flatten_2 (Flatten)          (None, 6272)              0         \n",
      "_________________________________________________________________\n",
      "dense_3 (Dense)              (None, 512)               3211776   \n",
      "_________________________________________________________________\n",
      "dense_4 (Dense)              (None, 1)                 513       \n",
      "=================================================================\n",
      "Total params: 3,453,121\n",
      "Trainable params: 3,453,121\n",
      "Non-trainable params: 0\n",
      "_________________________________________________________________\n"
     ]
    }
   ],
   "source": [
    "model.summary()"
   ]
  },
  {
   "cell_type": "code",
   "execution_count": 11,
   "metadata": {},
   "outputs": [],
   "source": [
    "from keras import optimizers\n",
    "\n",
    "model.compile(loss='binary_crossentropy',\n",
    "              optimizer=optimizers.RMSprop(lr=1e-4),\n",
    "              metrics=['acc'])"
   ]
  },
  {
   "cell_type": "code",
   "execution_count": 12,
   "metadata": {},
   "outputs": [
    {
     "name": "stdout",
     "output_type": "stream",
     "text": [
      "Found 19000 images belonging to 2 classes.\n",
      "Found 4000 images belonging to 2 classes.\n"
     ]
    }
   ],
   "source": [
    "from keras.preprocessing.image import ImageDataGenerator\n",
    "\n",
    "# All images will be rescaled by 1./255\n",
    "train_datagen = ImageDataGenerator(rescale=1./255)\n",
    "test_datagen = ImageDataGenerator(rescale=1./255)\n",
    "\n",
    "train_generator = train_datagen.flow_from_directory(\n",
    "        # This is the target directory\n",
    "        train_dir,\n",
    "        # All images will be resized to 150x150\n",
    "        target_size=(150, 150),\n",
    "        batch_size=20,\n",
    "        # Since we use binary_crossentropy loss, we need binary labels\n",
    "        class_mode='binary')\n",
    "\n",
    "validation_generator = test_datagen.flow_from_directory(\n",
    "        validation_dir,\n",
    "        target_size=(150, 150),\n",
    "        batch_size=20,\n",
    "        class_mode='binary')"
   ]
  },
  {
   "cell_type": "code",
   "execution_count": 13,
   "metadata": {},
   "outputs": [
    {
     "name": "stdout",
     "output_type": "stream",
     "text": [
      "data batch shape: (20, 150, 150, 3)\n",
      "labels batch shape: (20,)\n"
     ]
    }
   ],
   "source": [
    "for data_batch, labels_batch in train_generator:\n",
    "    print('data batch shape:', data_batch.shape)\n",
    "    print('labels batch shape:', labels_batch.shape)\n",
    "    break"
   ]
  },
  {
   "cell_type": "code",
   "execution_count": 15,
   "metadata": {},
   "outputs": [
    {
     "name": "stdout",
     "output_type": "stream",
     "text": [
      "Epoch 1/30\n",
      "50/50 [==============================] - 12s 246ms/step - loss: 0.6683 - acc: 0.6080 - val_loss: 0.6635 - val_acc: 0.5950\n",
      "Epoch 2/30\n",
      "50/50 [==============================] - 13s 255ms/step - loss: 0.6485 - acc: 0.6110 - val_loss: 0.6539 - val_acc: 0.6010\n",
      "Epoch 3/30\n",
      "50/50 [==============================] - 12s 249ms/step - loss: 0.6403 - acc: 0.6450 - val_loss: 0.6244 - val_acc: 0.6530\n",
      "Epoch 4/30\n",
      "50/50 [==============================] - 13s 263ms/step - loss: 0.6264 - acc: 0.6410 - val_loss: 0.6233 - val_acc: 0.6370\n",
      "Epoch 5/30\n",
      "50/50 [==============================] - 13s 257ms/step - loss: 0.6321 - acc: 0.6450 - val_loss: 0.6111 - val_acc: 0.6610\n",
      "Epoch 6/30\n",
      "50/50 [==============================] - 13s 257ms/step - loss: 0.6156 - acc: 0.6630 - val_loss: 0.6680 - val_acc: 0.6010\n",
      "Epoch 7/30\n",
      "50/50 [==============================] - 13s 257ms/step - loss: 0.5959 - acc: 0.6810 - val_loss: 0.6134 - val_acc: 0.6560\n",
      "Epoch 8/30\n",
      "50/50 [==============================] - 13s 262ms/step - loss: 0.5871 - acc: 0.6770 - val_loss: 0.6062 - val_acc: 0.6690\n",
      "Epoch 9/30\n",
      "50/50 [==============================] - 13s 260ms/step - loss: 0.5580 - acc: 0.6940 - val_loss: 0.6091 - val_acc: 0.6550\n",
      "Epoch 10/30\n",
      "50/50 [==============================] - 13s 262ms/step - loss: 0.5920 - acc: 0.6800 - val_loss: 0.5698 - val_acc: 0.6980\n",
      "Epoch 11/30\n",
      "50/50 [==============================] - 13s 265ms/step - loss: 0.5813 - acc: 0.6800 - val_loss: 0.5584 - val_acc: 0.7170\n",
      "Epoch 12/30\n",
      "50/50 [==============================] - 13s 265ms/step - loss: 0.5588 - acc: 0.7120 - val_loss: 0.5501 - val_acc: 0.7140\n",
      "Epoch 13/30\n",
      "50/50 [==============================] - 13s 263ms/step - loss: 0.5822 - acc: 0.6880 - val_loss: 0.5404 - val_acc: 0.7180\n",
      "Epoch 14/30\n",
      "50/50 [==============================] - 13s 259ms/step - loss: 0.5476 - acc: 0.6950 - val_loss: 0.5383 - val_acc: 0.7270\n",
      "Epoch 15/30\n",
      "50/50 [==============================] - 13s 256ms/step - loss: 0.5411 - acc: 0.7400 - val_loss: 0.5679 - val_acc: 0.7080\n",
      "Epoch 16/30\n",
      "50/50 [==============================] - 13s 256ms/step - loss: 0.5116 - acc: 0.7360 - val_loss: 0.5360 - val_acc: 0.7280\n",
      "Epoch 17/30\n",
      "50/50 [==============================] - 13s 255ms/step - loss: 0.5058 - acc: 0.7620 - val_loss: 0.5211 - val_acc: 0.7390\n",
      "Epoch 18/30\n",
      "50/50 [==============================] - 13s 259ms/step - loss: 0.5004 - acc: 0.7500 - val_loss: 0.5287 - val_acc: 0.7190\n",
      "Epoch 19/30\n",
      "50/50 [==============================] - 13s 267ms/step - loss: 0.5146 - acc: 0.7400 - val_loss: 0.5251 - val_acc: 0.7460\n",
      "Epoch 20/30\n",
      "50/50 [==============================] - 13s 262ms/step - loss: 0.5254 - acc: 0.7470 - val_loss: 0.5302 - val_acc: 0.7400\n",
      "Epoch 21/30\n",
      "50/50 [==============================] - 13s 259ms/step - loss: 0.5212 - acc: 0.7300 - val_loss: 0.5028 - val_acc: 0.7510\n",
      "Epoch 22/30\n",
      "50/50 [==============================] - 14s 272ms/step - loss: 0.5022 - acc: 0.7380 - val_loss: 0.5136 - val_acc: 0.7550\n",
      "Epoch 23/30\n",
      "50/50 [==============================] - 13s 262ms/step - loss: 0.4768 - acc: 0.7640 - val_loss: 0.5555 - val_acc: 0.7210\n",
      "Epoch 24/30\n",
      "50/50 [==============================] - 13s 263ms/step - loss: 0.4951 - acc: 0.7400 - val_loss: 0.5081 - val_acc: 0.7600\n",
      "Epoch 25/30\n",
      "50/50 [==============================] - 13s 267ms/step - loss: 0.4939 - acc: 0.7680 - val_loss: 0.4872 - val_acc: 0.7590\n",
      "Epoch 26/30\n",
      "50/50 [==============================] - 13s 250ms/step - loss: 0.5018 - acc: 0.7590 - val_loss: 0.5223 - val_acc: 0.7380\n",
      "Epoch 27/30\n",
      "50/50 [==============================] - 12s 249ms/step - loss: 0.4720 - acc: 0.7660 - val_loss: 0.4844 - val_acc: 0.7720\n",
      "Epoch 28/30\n",
      "50/50 [==============================] - 13s 257ms/step - loss: 0.4790 - acc: 0.7780 - val_loss: 0.5236 - val_acc: 0.7290\n",
      "Epoch 29/30\n",
      "50/50 [==============================] - 13s 254ms/step - loss: 0.4692 - acc: 0.7650 - val_loss: 0.4729 - val_acc: 0.7650\n",
      "Epoch 30/30\n",
      "50/50 [==============================] - 12s 249ms/step - loss: 0.4801 - acc: 0.7710 - val_loss: 0.5250 - val_acc: 0.7380\n"
     ]
    }
   ],
   "source": [
    "history = model.fit_generator(\n",
    "      train_generator,\n",
    "      steps_per_epoch=50,\n",
    "      epochs=30,\n",
    "      validation_data=validation_generator,\n",
    "      validation_steps=50)"
   ]
  },
  {
   "cell_type": "code",
   "execution_count": 16,
   "metadata": {},
   "outputs": [],
   "source": [
    "model.save('cats_and_dogs.h5')"
   ]
  },
  {
   "cell_type": "code",
   "execution_count": 18,
   "metadata": {},
   "outputs": [
    {
     "data": {
      "image/png": "[encoded data removed]",
      "text/plain": [
       "<Figure size 432x288 with 1 Axes>"
      ]
     },
     "metadata": {},
     "output_type": "display_data"
    },
    {
     "data": {
      "image/png": "[encoded data removed]",
      "text/plain": [
       "<Figure size 432x288 with 1 Axes>"
      ]
     },
     "metadata": {},
     "output_type": "display_data"
    }
   ],
   "source": [
    "import matplotlib.pyplot as plt\n",
    "\n",
    "acc = history.history['acc']\n",
    "val_acc = history.history['val_acc']\n",
    "loss = history.history['loss']\n",
    "val_loss = history.history['val_loss']\n",
    "\n",
    "epochs = range(len(acc))\n",
    "\n",
    "plt.plot(epochs, acc, 'bo', label='Training acc')\n",
    "plt.plot(epochs, val_acc, 'b', label='Validation acc')\n",
    "plt.title('Training and validation accuracy')\n",
    "plt.legend()\n",
    "\n",
    "plt.figure()\n",
    "\n",
    "plt.plot(epochs, loss, 'bo', label='Training loss')\n",
    "plt.plot(epochs, val_loss, 'b', label='Validation loss')\n",
    "plt.title('Training and validation loss')\n",
    "plt.legend()\n",
    "\n",
    "plt.show()"
   ]
  },
  {
   "cell_type": "markdown",
   "metadata": {
    "collapsed": true
   },
   "source": [
    "# [Next: Basics of Keras Convolution Net](04_03_basics_of_keras_convolution_net.ipynb)"
   ]
  },
  {
   "cell_type": "code",
   "execution_count": null,
   "metadata": {},
   "outputs": [],
   "source": []
  }
 ],
 "metadata": {
  "accelerator": "GPU",
  "colab": {
   "default_view": {},
   "name": "MNIST_Full_Connected_NN.ipynb",
   "provenance": [],
   "version": "0.3.2",
   "views": {}
  },
  "kernelspec": {
   "display_name": "Python 3",
   "language": "python",
   "name": "python3"
  },
  "language_info": {
   "codemirror_mode": {
    "name": "ipython",
    "version": 3
   },
   "file_extension": ".py",
   "mimetype": "text/x-python",
   "name": "python",
   "nbconvert_exporter": "python",
   "pygments_lexer": "ipython3",
   "version": "3.6.5"
  }
 },
 "nbformat": 4,
 "nbformat_minor": 2
}

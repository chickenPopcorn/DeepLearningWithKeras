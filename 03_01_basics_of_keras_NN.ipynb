{
 "cells": [
  {
   "cell_type": "code",
   "execution_count": 1,
   "metadata": {},
   "outputs": [
    {
     "data": {
      "text/html": [
       "<link rel=\"stylesheet\" type=\"text/css\" href=\"//fonts.googleapis.com/css?family=Quicksand:300\" />\n",
       "<link rel=\"stylesheet\" type=\"text/css\" href=\"custom.css\">"
      ],
      "text/plain": [
       "<IPython.core.display.HTML object>"
      ]
     },
     "metadata": {},
     "output_type": "display_data"
    }
   ],
   "source": [
    "%%HTML\n",
    "<link rel=\"stylesheet\" type=\"text/css\" href=\"//fonts.googleapis.com/css?family=Quicksand:300\" />\n",
    "<link rel=\"stylesheet\" type=\"text/css\" href=\"custom.css\">"
   ]
  },
  {
   "cell_type": "markdown",
   "metadata": {},
   "source": [
    "# Building Neural Network\n",
    "\n",
    "**Goal**\n",
    "- Create baseline with full connected neural network\n",
    "\n",
    "** Data ** \n",
    "\n",
    "Like many other libraries, `keras` includes some standard datasets to play around with.\n",
    "The follow a specific [API](https://www.tensorflow.org/programmers_guide/datasets) that make them iteract nicely with TensorFlow. \n",
    "- MNIST\n",
    "- IMDB Reviews"
   ]
  },
  {
   "cell_type": "markdown",
   "metadata": {},
   "source": [
    "### Classifying handwritten digits: a categorical classification example\n",
    " The dataset we will use is the MNIST dataset, a classic dataset in the machine learning community, which has been around for almost as long as the field itself and has been very intensively studied. It's a set of 60,000 training images, plus 10,000 test images, assembled by the National Institute of Standards and Technology (the NIST in MNIST) in the 1980s. You can think of \"solving\" MNIST as the \"Hello World\" of deep learning -- it's what you do to verify that your algorithms are working as expected. As you become a machine learning practitioner, you will see MNIST come up over and over again, in scientific papers, blog posts, and so on.\n",
    "\n",
    "The MNIST dataset comes pre-loaded in Keras, in the form of a set of four Numpy arrays:"
   ]
  },
  {
   "cell_type": "markdown",
   "metadata": {},
   "source": [
    "** Let's first create a base line with `Dense Layers` **"
   ]
  },
  {
   "cell_type": "code",
   "execution_count": 9,
   "metadata": {
    "colab": {
     "autoexec": {
      "startup": false,
      "wait_interval": 0
     },
     "base_uri": "https://localhost:8080/",
     "height": 36
    },
    "colab_type": "code",
    "executionInfo": {
     "elapsed": 48,
     "status": "ok",
     "timestamp": 1532223872004,
     "user": {
      "displayName": "Ruicong Xie",
      "photoUrl": "//lh3.googleusercontent.com/-J-ei9cbj6-c/AAAAAAAAAAI/AAAAAAAAAYw/jKuPh7RQkRY/s50-c-k-no/photo.jpg",
      "userId": "115084018491299223030"
     },
     "user_tz": 240
    },
    "id": "WTXr-7M5Ntx8",
    "outputId": "3db82233-c276-4d02-d36a-17d2025bfe56"
   },
   "outputs": [
    {
     "name": "stderr",
     "output_type": "stream",
     "text": [
      "/home/jimmy/anaconda3/lib/python3.6/site-packages/h5py/__init__.py:36: FutureWarning: Conversion of the second argument of issubdtype from `float` to `np.floating` is deprecated. In future, it will be treated as `np.float64 == np.dtype(float).type`.\n",
      "  from ._conv import register_converters as _register_converters\n",
      "Using TensorFlow backend.\n"
     ]
    }
   ],
   "source": [
    "import numpy as np\n",
    "import matplotlib.pyplot as plt\n",
    "\n",
    "from keras.datasets import mnist\n",
    "from keras.models import Sequential\n",
    "from keras.optimizers import Adam\n",
    "from keras.layers import Dense, Dropout, Activation, Flatten, InputLayer\n",
    "from keras import utils\n",
    "\n",
    "import random"
   ]
  },
  {
   "cell_type": "code",
   "execution_count": 10,
   "metadata": {},
   "outputs": [],
   "source": [
    "%matplotlib inline\n",
    "plt.rcParams['figure.figsize'] = 15, 6"
   ]
  },
  {
   "cell_type": "code",
   "execution_count": 11,
   "metadata": {},
   "outputs": [],
   "source": [
    "def plot(history):\n",
    "    acc = history.history['acc']\n",
    "    val_acc = history.history['val_acc']\n",
    "    loss = history.history['loss']\n",
    "    val_loss = history.history['val_loss']\n",
    "\n",
    "    epochs = range(len(acc))\n",
    "\n",
    "    plt.plot(epochs, acc, 'bo', label='Training acc')\n",
    "    plt.plot(epochs, val_acc, 'b', label='Validation acc')\n",
    "    plt.title('Training and validation accuracy')\n",
    "    plt.legend()\n",
    "\n",
    "    plt.figure()\n",
    "\n",
    "    plt.plot(epochs, loss, 'bo', label='Training loss')\n",
    "    plt.plot(epochs, val_loss, 'b', label='Validation loss')\n",
    "    plt.title('Training and validation loss')\n",
    "    plt.legend()\n",
    "\n",
    "    plt.show()"
   ]
  },
  {
   "cell_type": "code",
   "execution_count": 13,
   "metadata": {
    "colab": {
     "autoexec": {
      "startup": false,
      "wait_interval": 0
     },
     "base_uri": "https://localhost:8080/",
     "height": 93
    },
    "colab_type": "code",
    "executionInfo": {
     "elapsed": 231,
     "status": "ok",
     "timestamp": 1532223646492,
     "user": {
      "displayName": "Ruicong Xie",
      "photoUrl": "//lh3.googleusercontent.com/-J-ei9cbj6-c/AAAAAAAAAAI/AAAAAAAAAYw/jKuPh7RQkRY/s50-c-k-no/photo.jpg",
      "userId": "115084018491299223030"
     },
     "user_tz": 240
    },
    "id": "s4jhrxtXODeU",
    "outputId": "a96db18b-badb-4e38-b035-4f40151ef7da"
   },
   "outputs": [
    {
     "name": "stdout",
     "output_type": "stream",
     "text": [
      "train_images original shape (60000, 28, 28)\n",
      "train_labels original shape (60000,)\n",
      "test_images original shape (10000, 28, 28)\n",
      "test_labels original shape (10000,)\n"
     ]
    }
   ],
   "source": [
    "nb_classes = 10\n",
    "\n",
    "# the data, shuffled and split between tran and test sets\n",
    "(train_images, train_labels), (test_images, test_labels) = mnist.load_data()\n",
    "\n",
    "# the train data shapes (size) in Numpy \n",
    "print(\"train_images original shape\", train_images.shape)\n",
    "print(\"train_labels original shape\", train_labels.shape)\n",
    "\n",
    "# the test data shapes (size) in Numpy \n",
    "print(\"test_images original shape\", test_images.shape)\n",
    "print(\"test_labels original shape\", test_labels.shape)"
   ]
  },
  {
   "cell_type": "code",
   "execution_count": 217,
   "metadata": {
    "colab": {
     "autoexec": {
      "startup": false,
      "wait_interval": 0
     },
     "base_uri": "https://localhost:8080/",
     "height": 281
    },
    "colab_type": "code",
    "executionInfo": {
     "elapsed": 404,
     "status": "ok",
     "timestamp": 1532223509138,
     "user": {
      "displayName": "Ruicong Xie",
      "photoUrl": "//lh3.googleusercontent.com/-J-ei9cbj6-c/AAAAAAAAAAI/AAAAAAAAAYw/jKuPh7RQkRY/s50-c-k-no/photo.jpg",
      "userId": "115084018491299223030"
     },
     "user_tz": 240
    },
    "id": "mQOCXqR3OG-V",
    "outputId": "0a91f6a5-1b25-43b7-e558-abcd823e44fe"
   },
   "outputs": [
    {
     "data": {
      "image/png": "[encoded data removed]",
      "text/plain": [
       "<Figure size 1080x432 with 6 Axes>"
      ]
     },
     "metadata": {},
     "output_type": "display_data"
    }
   ],
   "source": [
    "[ax.imshow(random.choice(train_images), cmap='gray') for ax in plt.subplots(1, 6)[1]];"
   ]
  },
  {
   "cell_type": "code",
   "execution_count": 218,
   "metadata": {
    "colab": {
     "autoexec": {
      "startup": false,
      "wait_interval": 0
     },
     "base_uri": "https://localhost:8080/",
     "height": 55
    },
    "colab_type": "code",
    "executionInfo": {
     "elapsed": 128,
     "status": "ok",
     "timestamp": 1532223668058,
     "user": {
      "displayName": "Ruicong Xie",
      "photoUrl": "//lh3.googleusercontent.com/-J-ei9cbj6-c/AAAAAAAAAAI/AAAAAAAAAYw/jKuPh7RQkRY/s50-c-k-no/photo.jpg",
      "userId": "115084018491299223030"
     },
     "user_tz": 240
    },
    "id": "sUeeeKebmcgb",
    "outputId": "34a04906-32de-4a0f-8f8d-1a646b9ed74f"
   },
   "outputs": [
    {
     "name": "stdout",
     "output_type": "stream",
     "text": [
      "Training matrix shape (60000, 28, 28)\n",
      "Testing matrix shape (10000, 28, 28)\n"
     ]
    }
   ],
   "source": [
    "train_images = train_images.astype('float32')\n",
    "test_images = test_images.astype('float32')\n",
    "print(\"Training matrix shape\", train_images.shape)\n",
    "print(\"Testing matrix shape\", test_images.shape)"
   ]
  },
  {
   "cell_type": "code",
   "execution_count": 219,
   "metadata": {
    "colab": {
     "autoexec": {
      "startup": false,
      "wait_interval": 0
     }
    },
    "colab_type": "code",
    "id": "IQkv5v8BVBY7"
   },
   "outputs": [],
   "source": [
    "train_labels = utils.to_categorical(train_labels, nb_classes)\n",
    "test_labels = utils.to_categorical(test_labels, nb_classes)"
   ]
  },
  {
   "cell_type": "code",
   "execution_count": 220,
   "metadata": {
    "colab": {
     "autoexec": {
      "startup": false,
      "wait_interval": 0
     },
     "base_uri": "https://localhost:8080/",
     "height": 168
    },
    "colab_type": "code",
    "executionInfo": {
     "elapsed": 39,
     "status": "ok",
     "timestamp": 1532223700926,
     "user": {
      "displayName": "Ruicong Xie",
      "photoUrl": "//lh3.googleusercontent.com/-J-ei9cbj6-c/AAAAAAAAAAI/AAAAAAAAAYw/jKuPh7RQkRY/s50-c-k-no/photo.jpg",
      "userId": "115084018491299223030"
     },
     "user_tz": 240
    },
    "id": "OUz0--KKVFJV",
    "outputId": "a296afe4-3dcb-4a88-b78c-8c4ecff4961d"
   },
   "outputs": [
    {
     "data": {
      "text/plain": [
       "(array([[[0., 0., 0., ..., 0., 0., 0.],\n",
       "         [0., 0., 0., ..., 0., 0., 0.],\n",
       "         [0., 0., 0., ..., 0., 0., 0.],\n",
       "         ...,\n",
       "         [0., 0., 0., ..., 0., 0., 0.],\n",
       "         [0., 0., 0., ..., 0., 0., 0.],\n",
       "         [0., 0., 0., ..., 0., 0., 0.]],\n",
       " \n",
       "        [[0., 0., 0., ..., 0., 0., 0.],\n",
       "         [0., 0., 0., ..., 0., 0., 0.],\n",
       "         [0., 0., 0., ..., 0., 0., 0.],\n",
       "         ...,\n",
       "         [0., 0., 0., ..., 0., 0., 0.],\n",
       "         [0., 0., 0., ..., 0., 0., 0.],\n",
       "         [0., 0., 0., ..., 0., 0., 0.]],\n",
       " \n",
       "        [[0., 0., 0., ..., 0., 0., 0.],\n",
       "         [0., 0., 0., ..., 0., 0., 0.],\n",
       "         [0., 0., 0., ..., 0., 0., 0.],\n",
       "         ...,\n",
       "         [0., 0., 0., ..., 0., 0., 0.],\n",
       "         [0., 0., 0., ..., 0., 0., 0.],\n",
       "         [0., 0., 0., ..., 0., 0., 0.]],\n",
       " \n",
       "        ...,\n",
       " \n",
       "        [[0., 0., 0., ..., 0., 0., 0.],\n",
       "         [0., 0., 0., ..., 0., 0., 0.],\n",
       "         [0., 0., 0., ..., 0., 0., 0.],\n",
       "         ...,\n",
       "         [0., 0., 0., ..., 0., 0., 0.],\n",
       "         [0., 0., 0., ..., 0., 0., 0.],\n",
       "         [0., 0., 0., ..., 0., 0., 0.]],\n",
       " \n",
       "        [[0., 0., 0., ..., 0., 0., 0.],\n",
       "         [0., 0., 0., ..., 0., 0., 0.],\n",
       "         [0., 0., 0., ..., 0., 0., 0.],\n",
       "         ...,\n",
       "         [0., 0., 0., ..., 0., 0., 0.],\n",
       "         [0., 0., 0., ..., 0., 0., 0.],\n",
       "         [0., 0., 0., ..., 0., 0., 0.]],\n",
       " \n",
       "        [[0., 0., 0., ..., 0., 0., 0.],\n",
       "         [0., 0., 0., ..., 0., 0., 0.],\n",
       "         [0., 0., 0., ..., 0., 0., 0.],\n",
       "         ...,\n",
       "         [0., 0., 0., ..., 0., 0., 0.],\n",
       "         [0., 0., 0., ..., 0., 0., 0.],\n",
       "         [0., 0., 0., ..., 0., 0., 0.]]], dtype=float32),\n",
       " array([[0., 0., 0., ..., 1., 0., 0.],\n",
       "        [0., 0., 1., ..., 0., 0., 0.],\n",
       "        [0., 1., 0., ..., 0., 0., 0.],\n",
       "        ...,\n",
       "        [0., 0., 0., ..., 0., 0., 0.],\n",
       "        [0., 0., 0., ..., 0., 0., 0.],\n",
       "        [0., 0., 0., ..., 0., 0., 0.]], dtype=float32))"
      ]
     },
     "execution_count": 220,
     "metadata": {},
     "output_type": "execute_result"
    }
   ],
   "source": [
    "test_images, test_labels"
   ]
  },
  {
   "cell_type": "markdown",
   "metadata": {
    "colab_type": "text",
    "id": "YDVSjLBlPYF3"
   },
   "source": [
    "Build the neural network\n",
    "Build the neural-network. Here we'll do a simple 3 layer fully connected network.\n",
    "![alt text](https://github.com/wxs/keras-mnist-tutorial/raw/8824b7b56963a92ef879f09acd99cf3a210db2b8/figure.png)"
   ]
  },
  {
   "cell_type": "code",
   "execution_count": 221,
   "metadata": {
    "colab": {
     "autoexec": {
      "startup": false,
      "wait_interval": 0
     },
     "base_uri": "https://localhost:8080/",
     "height": 376
    },
    "colab_type": "code",
    "executionInfo": {
     "elapsed": 90,
     "status": "ok",
     "timestamp": 1532223736755,
     "user": {
      "displayName": "Ruicong Xie",
      "photoUrl": "//lh3.googleusercontent.com/-J-ei9cbj6-c/AAAAAAAAAAI/AAAAAAAAAYw/jKuPh7RQkRY/s50-c-k-no/photo.jpg",
      "userId": "115084018491299223030"
     },
     "user_tz": 240
    },
    "id": "D9SwIe-rPXLd",
    "outputId": "172560d6-9a66-4542-a07d-c94d448f6001"
   },
   "outputs": [
    {
     "name": "stdout",
     "output_type": "stream",
     "text": [
      "_________________________________________________________________\n",
      "Layer (type)                 Output Shape              Param #   \n",
      "=================================================================\n",
      "flatten_20 (Flatten)         (None, 784)               0         \n",
      "_________________________________________________________________\n",
      "dense_48 (Dense)             (None, 512)               401920    \n",
      "_________________________________________________________________\n",
      "dropout_35 (Dropout)         (None, 512)               0         \n",
      "_________________________________________________________________\n",
      "dense_49 (Dense)             (None, 512)               262656    \n",
      "_________________________________________________________________\n",
      "dropout_36 (Dropout)         (None, 512)               0         \n",
      "_________________________________________________________________\n",
      "dense_50 (Dense)             (None, 10)                5130      \n",
      "=================================================================\n",
      "Total params: 669,706\n",
      "Trainable params: 669,706\n",
      "Non-trainable params: 0\n",
      "_________________________________________________________________\n"
     ]
    }
   ],
   "source": [
    "model = Sequential()\n",
    "model.add(InputLayer(input_shape=(28, 28)))\n",
    "model.add(Flatten())\n",
    "model.add(Dense(512, activation='relu'))\n",
    "# An \"activation\" is just a non-linear function applied to the output\n",
    "# of the layer above. Here, with a \"rectified linear unit\",\n",
    "# we clamp all values below 0 to 0. \n",
    "model.add(Dropout(0.4))\n",
    "model.add(Dense(512, activation='relu'))\n",
    "model.add(Dropout(0.4))\n",
    "\n",
    "model.add(Dense(10, activation='softmax'))\n",
    "# This special \"softmax\" activation among other things,\n",
    "# ensures the output is a valid probaility distribution, that is\n",
    "# that its values are all non-negative and sum to 1.\n",
    "model.summary()"
   ]
  },
  {
   "cell_type": "code",
   "execution_count": 222,
   "metadata": {
    "colab": {
     "autoexec": {
      "startup": false,
      "wait_interval": 0
     }
    },
    "colab_type": "code",
    "id": "WJWCo26JPhZ3"
   },
   "outputs": [],
   "source": [
    "model.compile(loss='categorical_crossentropy', optimizer=Adam(lr=0.001), metrics=['accuracy'])"
   ]
  },
  {
   "cell_type": "code",
   "execution_count": 223,
   "metadata": {},
   "outputs": [
    {
     "data": {
      "text/plain": [
       "(60000, 28, 28)"
      ]
     },
     "execution_count": 223,
     "metadata": {},
     "output_type": "execute_result"
    }
   ],
   "source": [
    "train_images.shape"
   ]
  },
  {
   "cell_type": "markdown",
   "metadata": {
    "colab_type": "text",
    "id": "P0AAm5QlPpFX"
   },
   "source": [
    "When compiling a model, Keras asks you to specify your loss function and your optimizer. The loss function we'll use here is called categorical crossentropy, and is a loss function well-suited to comparing two probability distributions."
   ]
  },
  {
   "cell_type": "code",
   "execution_count": 224,
   "metadata": {
    "colab": {
     "autoexec": {
      "startup": false,
      "wait_interval": 0
     },
     "base_uri": "https://localhost:8080/",
     "height": 320
    },
    "colab_type": "code",
    "executionInfo": {
     "elapsed": 14509,
     "status": "ok",
     "timestamp": 1532223754189,
     "user": {
      "displayName": "Ruicong Xie",
      "photoUrl": "//lh3.googleusercontent.com/-J-ei9cbj6-c/AAAAAAAAAAI/AAAAAAAAAYw/jKuPh7RQkRY/s50-c-k-no/photo.jpg",
      "userId": "115084018491299223030"
     },
     "user_tz": 240
    },
    "id": "xdcX8JSGPp0-",
    "outputId": "2909c751-55dd-4ed0-df8a-6dce71399ffe"
   },
   "outputs": [
    {
     "name": "stdout",
     "output_type": "stream",
     "text": [
      "Train on 42000 samples, validate on 18000 samples\n",
      "Epoch 1/8\n",
      "42000/42000 [==============================] - 2s 57us/step - loss: 8.9642 - acc: 0.4411 - val_loss: 8.1462 - val_acc: 0.4934\n",
      "Epoch 2/8\n",
      "42000/42000 [==============================] - 2s 38us/step - loss: 7.7405 - acc: 0.5189 - val_loss: 7.5828 - val_acc: 0.5289\n",
      "Epoch 3/8\n",
      "42000/42000 [==============================] - 2s 38us/step - loss: 7.7687 - acc: 0.5174 - val_loss: 7.5373 - val_acc: 0.5322\n",
      "Epoch 4/8\n",
      "42000/42000 [==============================] - 2s 39us/step - loss: 7.6626 - acc: 0.5242 - val_loss: 7.2039 - val_acc: 0.5528\n",
      "Epoch 5/8\n",
      "42000/42000 [==============================] - 2s 38us/step - loss: 7.6306 - acc: 0.5263 - val_loss: 8.5616 - val_acc: 0.4684\n",
      "Epoch 6/8\n",
      "42000/42000 [==============================] - 2s 38us/step - loss: 7.5598 - acc: 0.5307 - val_loss: 8.2412 - val_acc: 0.4884\n",
      "Epoch 7/8\n",
      "42000/42000 [==============================] - 2s 38us/step - loss: 7.6362 - acc: 0.5261 - val_loss: 8.1528 - val_acc: 0.4939\n",
      "Epoch 8/8\n",
      "42000/42000 [==============================] - 2s 39us/step - loss: 8.0761 - acc: 0.4987 - val_loss: 8.3676 - val_acc: 0.4808\n"
     ]
    }
   ],
   "source": [
    "history = model.fit(\n",
    "    train_images, train_labels, \n",
    "    batch_size=128, epochs=8, \n",
    "    validation_split = 0.3)"
   ]
  },
  {
   "cell_type": "code",
   "execution_count": 225,
   "metadata": {
    "colab": {
     "autoexec": {
      "startup": false,
      "wait_interval": 0
     },
     "base_uri": "https://localhost:8080/",
     "height": 307
    },
    "colab_type": "code",
    "executionInfo": {
     "elapsed": 104,
     "status": "ok",
     "timestamp": 1532223850409,
     "user": {
      "displayName": "Ruicong Xie",
      "photoUrl": "//lh3.googleusercontent.com/-J-ei9cbj6-c/AAAAAAAAAAI/AAAAAAAAAYw/jKuPh7RQkRY/s50-c-k-no/photo.jpg",
      "userId": "115084018491299223030"
     },
     "user_tz": 240
    },
    "id": "IoVDK0MiPv9e",
    "outputId": "c8dd0fdf-7781-438b-ad3b-a68a4e5fb2d4",
    "scrolled": true
   },
   "outputs": [
    {
     "name": "stdout",
     "output_type": "stream",
     "text": [
      "Categorical Cross Entropy Prediction: \n",
      " [0.0, 0.0, 0.0, 0.0, 0.0, 0.0, 1.0, 0.0, 0.0, 0.0]\n",
      "Model Prediction:  [6]\n",
      "Ground-truth:  [1. 0. 0. 0. 0. 0. 0. 0. 0. 0.]\n"
     ]
    },
    {
     "data": {
      "image/png": "[encoded data removed]",
      "text/plain": [
       "<Figure size 1080x432 with 1 Axes>"
      ]
     },
     "metadata": {},
     "output_type": "display_data"
    }
   ],
   "source": [
    "import random\n",
    "i = random.randint(1, 1000)\n",
    "random_image = test_images[i]\n",
    "plt.imshow(test_images[i], cmap='gray')\n",
    "print('Categorical Cross Entropy Prediction: \\n', [round(i, 1) for i in model.predict(random_image.reshape(1,28,28))[0]])\n",
    "print('Model Prediction: ', model.predict_classes(random_image.reshape(1,28,28)))\n",
    "print('Ground-truth: ', test_labels[i])"
   ]
  },
  {
   "cell_type": "code",
   "execution_count": 226,
   "metadata": {
    "colab": {
     "autoexec": {
      "startup": false,
      "wait_interval": 0
     },
     "base_uri": "https://localhost:8080/",
     "height": 55
    },
    "colab_type": "code",
    "executionInfo": {
     "elapsed": 432,
     "status": "ok",
     "timestamp": 1532223758766,
     "user": {
      "displayName": "Ruicong Xie",
      "photoUrl": "//lh3.googleusercontent.com/-J-ei9cbj6-c/AAAAAAAAAAI/AAAAAAAAAYw/jKuPh7RQkRY/s50-c-k-no/photo.jpg",
      "userId": "115084018491299223030"
     },
     "user_tz": 240
    },
    "id": "6fc1PqU_ZZTE",
    "outputId": "042ff20c-73a2-4179-d4af-58d980e5981f"
   },
   "outputs": [
    {
     "name": "stdout",
     "output_type": "stream",
     "text": [
      "Test score loss: 7.6862965698242185\n",
      "Test accuracy: 0.4867\n"
     ]
    }
   ],
   "source": [
    "test_loss, test_acc =  model.evaluate(X_test, Y_test, verbose=3)\n",
    "print('Test score loss:', test_loss)\n",
    "print('Test accuracy:', test_acc)"
   ]
  },
  {
   "cell_type": "code",
   "execution_count": 227,
   "metadata": {},
   "outputs": [
    {
     "data": {
      "image/png": "[encoded data removed]",
      "text/plain": [
       "<Figure size 1080x432 with 1 Axes>"
      ]
     },
     "metadata": {},
     "output_type": "display_data"
    },
    {
     "data": {
      "image/png": "[encoded data removed]",
      "text/plain": [
       "<Figure size 1080x432 with 1 Axes>"
      ]
     },
     "metadata": {},
     "output_type": "display_data"
    }
   ],
   "source": [
    "plot(history)"
   ]
  },
  {
   "cell_type": "markdown",
   "metadata": {
    "collapsed": true
   },
   "source": [
    "# [Next: basics NN with Keras.ipynb](03_02_basics_of_keras_NN.ipynb)"
   ]
  },
  {
   "cell_type": "code",
   "execution_count": null,
   "metadata": {},
   "outputs": [],
   "source": []
  }
 ],
 "metadata": {
  "accelerator": "GPU",
  "colab": {
   "default_view": {},
   "name": "MNIST_Full_Connected_NN.ipynb",
   "provenance": [],
   "version": "0.3.2",
   "views": {}
  },
  "kernelspec": {
   "display_name": "Python 3",
   "language": "python",
   "name": "python3"
  },
  "language_info": {
   "codemirror_mode": {
    "name": "ipython",
    "version": 3
   },
   "file_extension": ".py",
   "mimetype": "text/x-python",
   "name": "python",
   "nbconvert_exporter": "python",
   "pygments_lexer": "ipython3",
   "version": "3.6.5"
  }
 },
 "nbformat": 4,
 "nbformat_minor": 2
}

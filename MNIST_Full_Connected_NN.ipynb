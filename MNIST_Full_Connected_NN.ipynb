{
  "nbformat": 4,
  "nbformat_minor": 0,
  "metadata": {
    "colab": {
      "name": "MNIST_Full_Connected_NN.ipynb",
      "version": "0.3.2",
      "views": {},
      "default_view": {},
      "provenance": []
    },
    "kernelspec": {
      "name": "python3",
      "display_name": "Python 3"
    },
    "accelerator": "GPU"
  },
  "cells": [
    {
      "metadata": {
        "id": "WTXr-7M5Ntx8",
        "colab_type": "code",
        "colab": {
          "autoexec": {
            "startup": false,
            "wait_interval": 0
          },
          "base_uri": "https://localhost:8080/",
          "height": 36
        },
        "outputId": "3db82233-c276-4d02-d36a-17d2025bfe56",
        "executionInfo": {
          "status": "ok",
          "timestamp": 1532223872004,
          "user_tz": 240,
          "elapsed": 48,
          "user": {
            "displayName": "Ruicong Xie",
            "photoUrl": "//lh3.googleusercontent.com/-J-ei9cbj6-c/AAAAAAAAAAI/AAAAAAAAAYw/jKuPh7RQkRY/s50-c-k-no/photo.jpg",
            "userId": "115084018491299223030"
          }
        }
      },
      "cell_type": "code",
      "source": [
        "import tensorflow.python.keras\n",
        "import numpy as np\n",
        "import matplotlib.pyplot as plt\n",
        "\n",
        "from keras.datasets import mnist\n",
        "from keras.models import Sequential\n",
        "from keras.optimizers import Adam\n",
        "from keras.layers import Dense, Dropout, Activation, Flatten, InputLayer\n",
        "from keras import utils"
      ],
      "execution_count": 85,
      "outputs": [
        {
          "output_type": "stream",
          "text": [
            "Using TensorFlow backend.\n"
          ],
          "name": "stderr"
        }
      ]
    },
    {
      "metadata": {
        "id": "s4jhrxtXODeU",
        "colab_type": "code",
        "colab": {
          "autoexec": {
            "startup": false,
            "wait_interval": 0
          },
          "base_uri": "https://localhost:8080/",
          "height": 93
        },
        "outputId": "a96db18b-badb-4e38-b035-4f40151ef7da",
        "executionInfo": {
          "status": "ok",
          "timestamp": 1532223646492,
          "user_tz": 240,
          "elapsed": 231,
          "user": {
            "displayName": "Ruicong Xie",
            "photoUrl": "//lh3.googleusercontent.com/-J-ei9cbj6-c/AAAAAAAAAAI/AAAAAAAAAYw/jKuPh7RQkRY/s50-c-k-no/photo.jpg",
            "userId": "115084018491299223030"
          }
        }
      },
      "cell_type": "code",
      "source": [
        "nb_classes = 10\n",
        "\n",
        "# the data, shuffled and split between tran and test sets\n",
        "(X_train, y_train), (X_test, y_test) = mnist.load_data()\n",
        "print(\"X_train original shape\", X_train.shape)\n",
        "print(\"y_train original shape\", y_train.shape)\n",
        "\n",
        "print(\"X_test original shape\", X_test.shape)\n",
        "print(\"y_test original shape\", y_test.shape)"
      ],
      "execution_count": 66,
      "outputs": [
        {
          "output_type": "stream",
          "text": [
            "X_train original shape (60000, 28, 28)\n",
            "y_train original shape (60000,)\n",
            "X_test original shape (10000, 28, 28)\n",
            "y_test original shape (10000,)\n"
          ],
          "name": "stdout"
        }
      ]
    },
    {
      "metadata": {
        "id": "mQOCXqR3OG-V",
        "colab_type": "code",
        "colab": {
          "autoexec": {
            "startup": false,
            "wait_interval": 0
          },
          "base_uri": "https://localhost:8080/",
          "height": 281
        },
        "outputId": "0a91f6a5-1b25-43b7-e558-abcd823e44fe",
        "executionInfo": {
          "status": "ok",
          "timestamp": 1532223509138,
          "user_tz": 240,
          "elapsed": 404,
          "user": {
            "displayName": "Ruicong Xie",
            "photoUrl": "//lh3.googleusercontent.com/-J-ei9cbj6-c/AAAAAAAAAAI/AAAAAAAAAYw/jKuPh7RQkRY/s50-c-k-no/photo.jpg",
            "userId": "115084018491299223030"
          }
        }
      },
      "cell_type": "code",
      "source": [
        "for i in range(9):\n",
        "    plt.subplot(3,3,i+1)\n",
        "    plt.imshow(X_train[i], cmap='gray', interpolation='none')\n",
        "    plt.title(\"Class {}\".format(y_train[i]))"
      ],
      "execution_count": 52,
      "outputs": [
        {
          "output_type": "display_data",
          "data": {
            "text/plain": [
              "<Figure size 432x288 with 9 Axes>"
            ],
            "image/png": "[encoded data removed]"
          },
          "metadata": {
            "tags": []
          }
        }
      ]
    },
    {
      "metadata": {
        "id": "xCDtTMD7OIR3",
        "colab_type": "code",
        "colab": {
          "autoexec": {
            "startup": false,
            "wait_interval": 0
          },
          "base_uri": "https://localhost:8080/",
          "height": 55
        },
        "outputId": "76e605d0-e390-4305-fa4f-69b53da45bb5",
        "executionInfo": {
          "status": "ok",
          "timestamp": 1532223456316,
          "user_tz": 240,
          "elapsed": 128,
          "user": {
            "displayName": "Ruicong Xie",
            "photoUrl": "//lh3.googleusercontent.com/-J-ei9cbj6-c/AAAAAAAAAAI/AAAAAAAAAYw/jKuPh7RQkRY/s50-c-k-no/photo.jpg",
            "userId": "115084018491299223030"
          }
        }
      },
      "cell_type": "code",
      "source": [
        "X_train = X_train.reshape(60000, 28 * 28).astype('float32') / 255\n",
        "X_test = X_test.reshape(10000, 28 * 28).astype('float32') / 255\n",
        "print(\"Training matrix shape\", X_train.shape)\n",
        "print(\"Testing matrix shape\", X_test.shape)"
      ],
      "execution_count": 38,
      "outputs": [
        {
          "output_type": "stream",
          "text": [
            "Training matrix shape (60000, 784)\n",
            "Testing matrix shape (10000, 784)\n"
          ],
          "name": "stdout"
        }
      ]
    },
    {
      "metadata": {
        "id": "sUeeeKebmcgb",
        "colab_type": "code",
        "colab": {
          "autoexec": {
            "startup": false,
            "wait_interval": 0
          },
          "base_uri": "https://localhost:8080/",
          "height": 55
        },
        "outputId": "34a04906-32de-4a0f-8f8d-1a646b9ed74f",
        "executionInfo": {
          "status": "ok",
          "timestamp": 1532223668058,
          "user_tz": 240,
          "elapsed": 128,
          "user": {
            "displayName": "Ruicong Xie",
            "photoUrl": "//lh3.googleusercontent.com/-J-ei9cbj6-c/AAAAAAAAAAI/AAAAAAAAAYw/jKuPh7RQkRY/s50-c-k-no/photo.jpg",
            "userId": "115084018491299223030"
          }
        }
      },
      "cell_type": "code",
      "source": [
        "X_train = X_train.astype('float32') / 255\n",
        "X_test = X_test.astype('float32') / 255\n",
        "print(\"Training matrix shape\", X_train.shape)\n",
        "print(\"Testing matrix shape\", X_test.shape)"
      ],
      "execution_count": 67,
      "outputs": [
        {
          "output_type": "stream",
          "text": [
            "Training matrix shape (60000, 28, 28)\n",
            "Testing matrix shape (10000, 28, 28)\n"
          ],
          "name": "stdout"
        }
      ]
    },
    {
      "metadata": {
        "id": "H-XyTKnaOZrf",
        "colab_type": "code",
        "colab": {
          "autoexec": {
            "startup": false,
            "wait_interval": 0
          }
        }
      },
      "cell_type": "code",
      "source": [
        "# X_train, X_test"
      ],
      "execution_count": 0,
      "outputs": []
    },
    {
      "metadata": {
        "id": "IQkv5v8BVBY7",
        "colab_type": "code",
        "colab": {
          "autoexec": {
            "startup": false,
            "wait_interval": 0
          }
        }
      },
      "cell_type": "code",
      "source": [
        "Y_train = utils.to_categorical(y_train, nb_classes)\n",
        "Y_test = utils.to_categorical(y_test, nb_classes)"
      ],
      "execution_count": 0,
      "outputs": []
    },
    {
      "metadata": {
        "id": "OUz0--KKVFJV",
        "colab_type": "code",
        "colab": {
          "autoexec": {
            "startup": false,
            "wait_interval": 0
          },
          "base_uri": "https://localhost:8080/",
          "height": 168
        },
        "outputId": "a296afe4-3dcb-4a88-b78c-8c4ecff4961d",
        "executionInfo": {
          "status": "ok",
          "timestamp": 1532223700926,
          "user_tz": 240,
          "elapsed": 39,
          "user": {
            "displayName": "Ruicong Xie",
            "photoUrl": "//lh3.googleusercontent.com/-J-ei9cbj6-c/AAAAAAAAAAI/AAAAAAAAAYw/jKuPh7RQkRY/s50-c-k-no/photo.jpg",
            "userId": "115084018491299223030"
          }
        }
      },
      "cell_type": "code",
      "source": [
        "Y_train, y_test"
      ],
      "execution_count": 71,
      "outputs": [
        {
          "output_type": "execute_result",
          "data": {
            "text/plain": [
              "(array([[0., 0., 0., ..., 0., 0., 0.],\n",
              "        [1., 0., 0., ..., 0., 0., 0.],\n",
              "        [0., 0., 0., ..., 0., 0., 0.],\n",
              "        ...,\n",
              "        [0., 0., 0., ..., 0., 0., 0.],\n",
              "        [0., 0., 0., ..., 0., 0., 0.],\n",
              "        [0., 0., 0., ..., 0., 1., 0.]]),\n",
              " array([7, 2, 1, ..., 4, 5, 6], dtype=uint8))"
            ]
          },
          "metadata": {
            "tags": []
          },
          "execution_count": 71
        }
      ]
    },
    {
      "metadata": {
        "id": "YDVSjLBlPYF3",
        "colab_type": "text"
      },
      "cell_type": "markdown",
      "source": [
        "Build the neural network\n",
        "Build the neural-network. Here we'll do a simple 3 layer fully connected network.\n",
        "![alt text](https://github.com/wxs/keras-mnist-tutorial/raw/8824b7b56963a92ef879f09acd99cf3a210db2b8/figure.png)"
      ]
    },
    {
      "metadata": {
        "id": "D9SwIe-rPXLd",
        "colab_type": "code",
        "colab": {
          "autoexec": {
            "startup": false,
            "wait_interval": 0
          },
          "base_uri": "https://localhost:8080/",
          "height": 376
        },
        "outputId": "172560d6-9a66-4542-a07d-c94d448f6001",
        "executionInfo": {
          "status": "ok",
          "timestamp": 1532223736755,
          "user_tz": 240,
          "elapsed": 90,
          "user": {
            "displayName": "Ruicong Xie",
            "photoUrl": "//lh3.googleusercontent.com/-J-ei9cbj6-c/AAAAAAAAAAI/AAAAAAAAAYw/jKuPh7RQkRY/s50-c-k-no/photo.jpg",
            "userId": "115084018491299223030"
          }
        }
      },
      "cell_type": "code",
      "source": [
        "model = Sequential()\n",
        "model.add(InputLayer(input_shape=(28, 28)))\n",
        "model.add(Flatten())\n",
        "model.add(Dense(512, activation='relu'))\n",
        "# An \"activation\" is just a non-linear function applied to the output\n",
        "# of the layer above. Here, with a \"rectified linear unit\",\n",
        "# we clamp all values below 0 to 0. \n",
        "model.add(Dropout(0.4))\n",
        "model.add(Dense(512, activation='relu'))\n",
        "model.add(Dropout(0.4))\n",
        "\n",
        "model.add(Dense(10, activation='softmax'))\n",
        "# This special \"softmax\" activation among other things,\n",
        "# ensures the output is a valid probaility distribution, that is\n",
        "# that its values are all non-negative and sum to 1.\n",
        "model.summary()"
      ],
      "execution_count": 75,
      "outputs": [
        {
          "output_type": "stream",
          "text": [
            "_________________________________________________________________\n",
            "Layer (type)                 Output Shape              Param #   \n",
            "=================================================================\n",
            "flatten_6 (Flatten)          (None, 784)               0         \n",
            "_________________________________________________________________\n",
            "dense_28 (Dense)             (None, 512)               401920    \n",
            "_________________________________________________________________\n",
            "dropout_19 (Dropout)         (None, 512)               0         \n",
            "_________________________________________________________________\n",
            "dense_29 (Dense)             (None, 512)               262656    \n",
            "_________________________________________________________________\n",
            "dropout_20 (Dropout)         (None, 512)               0         \n",
            "_________________________________________________________________\n",
            "dense_30 (Dense)             (None, 10)                5130      \n",
            "=================================================================\n",
            "Total params: 669,706\n",
            "Trainable params: 669,706\n",
            "Non-trainable params: 0\n",
            "_________________________________________________________________\n"
          ],
          "name": "stdout"
        }
      ]
    },
    {
      "metadata": {
        "id": "WJWCo26JPhZ3",
        "colab_type": "code",
        "colab": {
          "autoexec": {
            "startup": false,
            "wait_interval": 0
          }
        }
      },
      "cell_type": "code",
      "source": [
        "model.compile(loss='categorical_crossentropy', optimizer=Adam(lr=0.001), metrics=['accuracy'])"
      ],
      "execution_count": 0,
      "outputs": []
    },
    {
      "metadata": {
        "id": "P0AAm5QlPpFX",
        "colab_type": "text"
      },
      "cell_type": "markdown",
      "source": [
        "When compiling a model, Keras asks you to specify your loss function and your optimizer. The loss function we'll use here is called categorical crossentropy, and is a loss function well-suited to comparing two probability distributions.\n",
        "\n",
        "\n",
        "Here our predictions are probability distributions across the ten different digits (e.g. \"we're 80% confident this image is a 3, 10% sure it's an 8, 5% it's a 2, etc.\"), and the target is a probability distribution with 100% for the correct category, and 0 for everything else. The cross-entropy is a measure of how different your predicted distribution is from the target distribution. More detail at Wikipedia"
      ]
    },
    {
      "metadata": {
        "id": "xdcX8JSGPp0-",
        "colab_type": "code",
        "colab": {
          "autoexec": {
            "startup": false,
            "wait_interval": 0
          },
          "base_uri": "https://localhost:8080/",
          "height": 320
        },
        "outputId": "2909c751-55dd-4ed0-df8a-6dce71399ffe",
        "executionInfo": {
          "status": "ok",
          "timestamp": 1532223754189,
          "user_tz": 240,
          "elapsed": 14509,
          "user": {
            "displayName": "Ruicong Xie",
            "photoUrl": "//lh3.googleusercontent.com/-J-ei9cbj6-c/AAAAAAAAAAI/AAAAAAAAAYw/jKuPh7RQkRY/s50-c-k-no/photo.jpg",
            "userId": "115084018491299223030"
          }
        }
      },
      "cell_type": "code",
      "source": [
        "history = model.fit(X_train, Y_train,\n",
        "          batch_size=128, epochs=7, validation_split = 0.3)"
      ],
      "execution_count": 77,
      "outputs": [
        {
          "output_type": "stream",
          "text": [
            "Train on 42000 samples, validate on 18000 samples\n",
            "Epoch 1/7\n",
            "42000/42000 [==============================] - 2s 58us/step - loss: 0.3607 - acc: 0.8910 - val_loss: 0.1432 - val_acc: 0.9576\n",
            "Epoch 2/7\n",
            "42000/42000 [==============================] - 2s 45us/step - loss: 0.1552 - acc: 0.9527 - val_loss: 0.1046 - val_acc: 0.9674\n",
            "Epoch 3/7\n",
            "42000/42000 [==============================] - 2s 45us/step - loss: 0.1174 - acc: 0.9636 - val_loss: 0.1047 - val_acc: 0.9670\n",
            "Epoch 4/7\n",
            "42000/42000 [==============================] - 2s 53us/step - loss: 0.0959 - acc: 0.9704 - val_loss: 0.1074 - val_acc: 0.9692\n",
            "Epoch 5/7\n",
            "42000/42000 [==============================] - 2s 46us/step - loss: 0.0789 - acc: 0.9743 - val_loss: 0.0860 - val_acc: 0.9742\n",
            "Epoch 6/7\n",
            "41984/42000 [============================>.] - ETA: 0s - loss: 0.0685 - acc: 0.9784"
          ],
          "name": "stdout"
        },
        {
          "output_type": "stream",
          "text": [
            "42000/42000 [==============================] - 2s 45us/step - loss: 0.0685 - acc: 0.9785 - val_loss: 0.0839 - val_acc: 0.9747\n",
            "Epoch 7/7\n",
            "42000/42000 [==============================] - 2s 46us/step - loss: 0.0617 - acc: 0.9800 - val_loss: 0.0859 - val_acc: 0.9756\n"
          ],
          "name": "stdout"
        }
      ]
    },
    {
      "metadata": {
        "id": "6fc1PqU_ZZTE",
        "colab_type": "code",
        "colab": {
          "autoexec": {
            "startup": false,
            "wait_interval": 0
          },
          "base_uri": "https://localhost:8080/",
          "height": 55
        },
        "outputId": "042ff20c-73a2-4179-d4af-58d980e5981f",
        "executionInfo": {
          "status": "ok",
          "timestamp": 1532223758766,
          "user_tz": 240,
          "elapsed": 432,
          "user": {
            "displayName": "Ruicong Xie",
            "photoUrl": "//lh3.googleusercontent.com/-J-ei9cbj6-c/AAAAAAAAAAI/AAAAAAAAAYw/jKuPh7RQkRY/s50-c-k-no/photo.jpg",
            "userId": "115084018491299223030"
          }
        }
      },
      "cell_type": "code",
      "source": [
        "score  =  model.evaluate(X_test, Y_test, verbose=3)\n",
        "print('Test score loss:', score[0])\n",
        "print('Test accuracy:', score[1])"
      ],
      "execution_count": 78,
      "outputs": [
        {
          "output_type": "stream",
          "text": [
            "Test score loss: 0.06687779654782498\n",
            "Test accuracy: 0.9795\n"
          ],
          "name": "stdout"
        }
      ]
    },
    {
      "metadata": {
        "id": "IoVDK0MiPv9e",
        "colab_type": "code",
        "colab": {
          "autoexec": {
            "startup": false,
            "wait_interval": 0
          },
          "base_uri": "https://localhost:8080/",
          "height": 307
        },
        "outputId": "c8dd0fdf-7781-438b-ad3b-a68a4e5fb2d4",
        "executionInfo": {
          "status": "ok",
          "timestamp": 1532223850409,
          "user_tz": 240,
          "elapsed": 104,
          "user": {
            "displayName": "Ruicong Xie",
            "photoUrl": "//lh3.googleusercontent.com/-J-ei9cbj6-c/AAAAAAAAAAI/AAAAAAAAAYw/jKuPh7RQkRY/s50-c-k-no/photo.jpg",
            "userId": "115084018491299223030"
          }
        }
      },
      "cell_type": "code",
      "source": [
        "import random\n",
        "i = random.randint(1, 1000)\n",
        "random_image = X_test[i]\n",
        "plt.imshow(X_test[i], cmap='gray')\n",
        "print('Model Prediction: ', model.predict_classes(random_image.reshape(1,28,28)))\n",
        "print('Ground-truth: ', y_test[i])"
      ],
      "execution_count": 84,
      "outputs": [
        {
          "output_type": "stream",
          "text": [
            "Model Prediction:  [6]\n",
            "Ground-truth:  6\n"
          ],
          "name": "stdout"
        },
        {
          "output_type": "display_data",
          "data": {
            "text/plain": [
              "<Figure size 432x288 with 1 Axes>"
            ],
            "image/png": "[encoded data removed]"
          },
          "metadata": {
            "tags": []
          }
        }
      ]
    },
    {
      "metadata": {
        "id": "YWIgYUlQTKte",
        "colab_type": "code",
        "colab": {
          "autoexec": {
            "startup": false,
            "wait_interval": 0
          }
        }
      },
      "cell_type": "code",
      "source": [
        ""
      ],
      "execution_count": 0,
      "outputs": []
    }
  ]
}